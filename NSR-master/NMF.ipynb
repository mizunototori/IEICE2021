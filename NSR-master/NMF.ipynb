{
 "cells": [
  {
   "cell_type": "code",
   "execution_count": 1,
   "metadata": {},
   "outputs": [],
   "source": [
    "import numpy as np"
   ]
  },
  {
   "cell_type": "markdown",
   "metadata": {},
   "source": [
    "## 初期化\n"
   ]
  },
  {
   "cell_type": "markdown",
   "metadata": {},
   "source": [
    "K = 20\n",
    "M = 15\n",
    "N = 1500\n",
    "q = 3"
   ]
  },
  {
   "cell_type": "code",
   "execution_count": 2,
   "metadata": {},
   "outputs": [],
   "source": [
    "K=20\n",
    "M=50\n",
    "N=1500\n",
    "q=3"
   ]
  },
  {
   "cell_type": "code",
   "execution_count": 3,
   "metadata": {},
   "outputs": [],
   "source": [
    "H = np.random.ranf(K*M).reshape(K,M) # R(KxM)"
   ]
  },
  {
   "cell_type": "code",
   "execution_count": 4,
   "metadata": {},
   "outputs": [],
   "source": [
    "def create_sparse(M, N, k):\n",
    "    elem = np.random.ranf(k*N).reshape(k,N)\n",
    "    zeros = (np.zeros((M-k)*N).reshape((M-k),N))\n",
    "    X = np.concatenate((elem, zeros), axis=0)\n",
    "    X = [np.random.permutation(x) for x in np.transpose(X)]\n",
    "    return np.transpose(X)\n"
   ]
  },
  {
   "cell_type": "code",
   "execution_count": 5,
   "metadata": {},
   "outputs": [],
   "source": [
    "U = create_sparse(M,N,q)"
   ]
  },
  {
   "cell_type": "code",
   "execution_count": 6,
   "metadata": {},
   "outputs": [],
   "source": [
    "Y = np.dot(H, U)"
   ]
  },
  {
   "cell_type": "markdown",
   "metadata": {},
   "source": [
    "### サイズを確かめる"
   ]
  },
  {
   "cell_type": "code",
   "execution_count": 7,
   "metadata": {},
   "outputs": [
    {
     "data": {
      "text/plain": [
       "((20, 1500), (20, 50), (50, 1500))"
      ]
     },
     "execution_count": 7,
     "metadata": {},
     "output_type": "execute_result"
    }
   ],
   "source": [
    "np.shape(Y),np.shape(H),np.shape(U)"
   ]
  },
  {
   "cell_type": "markdown",
   "metadata": {},
   "source": [
    "## NMFのコード"
   ]
  },
  {
   "cell_type": "code",
   "execution_count": 8,
   "metadata": {},
   "outputs": [],
   "source": [
    "def NMF(Y, trueDic, M, alpha=0):\n",
    "    \n",
    "    def initialize(): \n",
    "        H = Y[:,:M]\n",
    "        U = np.random.ranf(M*N).reshape(M,N)        \n",
    "        return H, U\n",
    "    \n",
    "    def update(Y, H, U):\n",
    "        H = H*((np.dot(Y, np.transpose(U)))/(np.dot(H,(np.dot(U,np.transpose(U))))))\n",
    "        U = U*((np.dot(np.transpose(H), Y)-alpha)/(np.dot(np.dot(np.transpose(H), H),U)))\n",
    "        return H, U\n",
    "        \n",
    "    def evaluate(Y, H, U, trueDic):\n",
    "        def count_atom(estDic, trueDic):\n",
    "            num_recoved = 0;\n",
    "            totaldist = 0\n",
    "            Tatoms = np.zeros(len(trueDic))  # True atoms\n",
    "            Eatoms = np.zeros(len(trueDic))  # Estimated atoms\n",
    "\n",
    "            num_atoms = len(trueDic[0])\n",
    "    \n",
    "            for i in range(0,num_atoms):\n",
    "                Tatom = trueDic[:,i]# True atoms\n",
    "                distances = [sum(pow(Tatom-h,2)) for h in np.transpose(H)]\n",
    "                mindis = min(distances)\n",
    "                minidx = np.argmin(distances)\n",
    "        \n",
    "                Eatom = estDic[:,minidx];\n",
    "                error = 1-abs(np.dot(np.transpose(Eatom), Tatom));\n",
    "                totaldist = totaldist+error\n",
    "                num_recoved = num_recoved+(error<0.01)\n",
    "        \n",
    "            Tatoms = np.vstack((Tatoms, Tatom));\n",
    "            Eatoms = np.vstack((Eatoms, Eatom));    \n",
    "            return 100*(num_recoved/num_atoms)\n",
    "        \n",
    "        error = sum(sum(pow(Y-np.dot(H,U),2))) # Error distance\n",
    "        atom = count_atom(H, trueDic)          # Ratio of recoverd atom\n",
    "        return error, atom    \n",
    "    \n",
    "    # initialize\n",
    "    error = [];\n",
    "    atom = [];\n",
    "    H, U = initialize()\n",
    "    \n",
    "    # update dictionary and coefficients\n",
    "    for i in range(0,2000):\n",
    "        H, U = update(Y,H,U)\n",
    "        err, atm = evaluate(Y,H,U, trueDic)\n",
    "        error.append(err)\n",
    "        atom.append(atm)\n",
    "        \n",
    "    return H, U, error, atom"
   ]
  },
  {
   "cell_type": "markdown",
   "metadata": {},
   "source": [
    "## NMFの実行"
   ]
  },
  {
   "cell_type": "code",
   "execution_count": 9,
   "metadata": {},
   "outputs": [],
   "source": [
    "a = 1e-3\n",
    "estH, estU, error, atom =  NMF(Y, H, M,alpha=a)"
   ]
  },
  {
   "cell_type": "code",
   "execution_count": 10,
   "metadata": {},
   "outputs": [
    {
     "data": {
      "text/plain": [
       "<AxesSubplot:>"
      ]
     },
     "execution_count": 10,
     "metadata": {},
     "output_type": "execute_result"
    },
    {
     "name": "stderr",
     "output_type": "stream",
     "text": [
      "findfont: Font family ['migmix-1p-regular'] not found. Falling back to DejaVu Sans.\n"
     ]
    },
    {
     "data": {
      "image/png": "[encoded data removed]",
      "text/plain": [
       "<Figure size 432x288 with 1 Axes>"
      ]
     },
     "metadata": {
      "needs_background": "light"
     },
     "output_type": "display_data"
    },
    {
     "data": {
      "image/png": "[encoded data removed]",
      "text/plain": [
       "<Figure size 432x288 with 1 Axes>"
      ]
     },
     "metadata": {
      "needs_background": "light"
     },
     "output_type": "display_data"
    }
   ],
   "source": [
    "%matplotlib inline\n",
    "import pandas as pd\n",
    "error =pd.DataFrame(error)\n",
    "atom =pd.DataFrame(atom)\n",
    "\n",
    "error.plot(kind='line')\n",
    "atom.plot(kind='line')"
   ]
  },
  {
   "cell_type": "code",
   "execution_count": null,
   "metadata": {},
   "outputs": [],
   "source": []
  }
 ],
 "metadata": {
  "kernelspec": {
   "display_name": "Python 3",
   "language": "python",
   "name": "python3"
  },
  "language_info": {
   "codemirror_mode": {
    "name": "ipython",
    "version": 3
   },
   "file_extension": ".py",
   "mimetype": "text/x-python",
   "name": "python",
   "nbconvert_exporter": "python",
   "pygments_lexer": "ipython3",
   "version": "3.8.10"
  }
 },
 "nbformat": 4,
 "nbformat_minor": 1
}

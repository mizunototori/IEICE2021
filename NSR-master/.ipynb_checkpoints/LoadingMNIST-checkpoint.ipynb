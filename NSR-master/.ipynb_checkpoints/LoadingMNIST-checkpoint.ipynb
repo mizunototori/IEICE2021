{
 "cells": [
  {
   "cell_type": "markdown",
   "metadata": {},
   "source": [
    "# MNISTデータの読み込み"
   ]
  },
  {
   "cell_type": "markdown",
   "metadata": {},
   "source": [
    "See\n",
    "http://aimstogeek.hatenablog.com/entry/2016/03/27/190548\n",
    "before runing this script.\n",
    "\n",
    "1. dataディレクトリを作成し、その中にMNISTデータをダウンロードする。\n",
    "2. MNISTデータはバイナリなので、テキストデータに変換する\n",
    "\n",
    "```\n",
    "mkdir data\n",
    "cd data\n",
    "\n",
    "wget http://yann.lecun.com/exdb/mnist/train-images-idx3-ubyte.gz\n",
    "wget http://yann.lecun.com/exdb/mnist/train-labels-idx1-ubyte.gz\n",
    "wget http://yann.lecun.com/exdb/mnist/t10k-images-idx3-ubyte.gz\n",
    "wget http://yann.lecun.com/exdb/mnist/t10k-labels-idx1-ubyte.gz\n",
    "```\n",
    "\n",
    "data conversion (Binary-->Text)\n",
    "\n",
    "```\n",
    "gzip -dc train-images-idx3-ubyte.gz | od -An -v -tu1 -j16 -w784 | sed 's/^ *//' | tr -s ' ' > train-images.txt\n",
    "gzip -dc train-labels-idx1-ubyte.gz | od -An -v -tu1 -j8 -w1 | tr -d ' ' > train-labels.txt\n",
    "gzip -dc train-images-idx3-ubyte.gz | od -An -v -tu1 -j16 -w784 | sed 's/^ *//' | tr -s ' ' > test-images.txt\n",
    "gzip -dc train-labels-idx1-ubyte.gz | od -An -v -tu1 -j8 -w1 | tr -d ' ' > test-labels.txt\n",
    "```\n",
    "\n",
    "上のテキストを読み込んでnumpyの28x28の1次元配列の配列にする例題がある。\n"
   ]
  },
  {
   "cell_type": "code",
   "execution_count": 1,
   "metadata": {
    "scrolled": true
   },
   "outputs": [
    {
     "name": "stdout",
     "output_type": "stream",
     "text": [
      "0.99925\n"
     ]
    }
   ],
   "source": [
    "import numpy as np\n",
    "from sklearn.ensemble import RandomForestClassifier\n",
    "\n",
    "# learninig data\n",
    "data_training = np.loadtxt('data/train-images.txt', delimiter=' ')\n",
    "label_training = np.loadtxt('data/train-labels.txt')\n",
    "\n",
    "# test data\n",
    "data_test = np.loadtxt('data/test-images.txt', delimiter=' ')\n",
    "label_test = np.loadtxt('data/test-labels.txt', delimiter=' ')\n",
    "\n",
    "# learn\n",
    "#estimator = LinearSVC(C=1.0)\n",
    "estimator = RandomForestClassifier()\n",
    "estimator.fit(data_training, label_training)\n",
    "\n",
    "# test\n",
    "print(estimator.score(data_test, label_test))\n"
   ]
  },
  {
   "cell_type": "markdown",
   "metadata": {},
   "source": [
    "MNISTデータは28x28なので、reshapeするとよいだろう。"
   ]
  },
  {
   "cell_type": "code",
   "execution_count": 4,
   "metadata": {
    "collapsed": true
   },
   "outputs": [
    {
     "data": {
      "text/plain": [
       "array([[   0.,    0.,    0.,    0.,    0.,    0.,    0.,    0.,    0.,\n",
       "           0.,    0.,    0.,    0.,    0.,    0.,    0.,    0.,    0.,\n",
       "           0.,    0.,    0.,    0.,    0.,    0.,    0.,    0.,    0.,\n",
       "           0.],\n",
       "       [   0.,    0.,    0.,    0.,    0.,    0.,    0.,    0.,    0.,\n",
       "           0.,    0.,    0.,    0.,    0.,    0.,    0.,    0.,    0.,\n",
       "           0.,    0.,    0.,    0.,    0.,    0.,    0.,    0.,    0.,\n",
       "           0.],\n",
       "       [   0.,    0.,    0.,    0.,    0.,    0.,    0.,    0.,    0.,\n",
       "           0.,    0.,    0.,    0.,    0.,    0.,    0.,    0.,    0.,\n",
       "           0.,    0.,    0.,    0.,    0.,    0.,    0.,    0.,    0.,\n",
       "           0.],\n",
       "       [   0.,    0.,    0.,    0.,    0.,    0.,    0.,    0.,    0.,\n",
       "           0.,    0.,    0.,    0.,    0.,    0.,    0.,    0.,    0.,\n",
       "           0.,    0.,    0.,    0.,    0.,    0.,    0.,    0.,    0.,\n",
       "           0.],\n",
       "       [   0.,    0.,    0.,    0.,    0.,    0.,    0.,    0.,    0.,\n",
       "           0.,    0.,    0.,    0.,    0.,    0.,   51.,  159.,  253.,\n",
       "         159.,   50.,    0.,    0.,    0.,    0.,    0.,    0.,    0.,\n",
       "           0.],\n",
       "       [   0.,    0.,    0.,    0.,    0.,    0.,    0.,    0.,    0.,\n",
       "           0.,    0.,    0.,    0.,    0.,   48.,  238.,  252.,  252.,\n",
       "         252.,  237.,    0.,    0.,    0.,    0.,    0.,    0.,    0.,\n",
       "           0.],\n",
       "       [   0.,    0.,    0.,    0.,    0.,    0.,    0.,    0.,    0.,\n",
       "           0.,    0.,    0.,    0.,   54.,  227.,  253.,  252.,  239.,\n",
       "         233.,  252.,   57.,    6.,    0.,    0.,    0.,    0.,    0.,\n",
       "           0.],\n",
       "       [   0.,    0.,    0.,    0.,    0.,    0.,    0.,    0.,    0.,\n",
       "           0.,    0.,   10.,   60.,  224.,  252.,  253.,  252.,  202.,\n",
       "          84.,  252.,  253.,  122.,    0.,    0.,    0.,    0.,    0.,\n",
       "           0.],\n",
       "       [   0.,    0.,    0.,    0.,    0.,    0.,    0.,    0.,    0.,\n",
       "           0.,    0.,  163.,  252.,  252.,  252.,  253.,  252.,  252.,\n",
       "          96.,  189.,  253.,  167.,    0.,    0.,    0.,    0.,    0.,\n",
       "           0.],\n",
       "       [   0.,    0.,    0.,    0.,    0.,    0.,    0.,    0.,    0.,\n",
       "           0.,   51.,  238.,  253.,  253.,  190.,  114.,  253.,  228.,\n",
       "          47.,   79.,  255.,  168.,    0.,    0.,    0.,    0.,    0.,\n",
       "           0.],\n",
       "       [   0.,    0.,    0.,    0.,    0.,    0.,    0.,    0.,    0.,\n",
       "          48.,  238.,  252.,  252.,  179.,   12.,   75.,  121.,   21.,\n",
       "           0.,    0.,  253.,  243.,   50.,    0.,    0.,    0.,    0.,\n",
       "           0.],\n",
       "       [   0.,    0.,    0.,    0.,    0.,    0.,    0.,    0.,   38.,\n",
       "         165.,  253.,  233.,  208.,   84.,    0.,    0.,    0.,    0.,\n",
       "           0.,    0.,  253.,  252.,  165.,    0.,    0.,    0.,    0.,\n",
       "           0.],\n",
       "       [   0.,    0.,    0.,    0.,    0.,    0.,    0.,    7.,  178.,\n",
       "         252.,  240.,   71.,   19.,   28.,    0.,    0.,    0.,    0.,\n",
       "           0.,    0.,  253.,  252.,  195.,    0.,    0.,    0.,    0.,\n",
       "           0.],\n",
       "       [   0.,    0.,    0.,    0.,    0.,    0.,    0.,   57.,  252.,\n",
       "         252.,   63.,    0.,    0.,    0.,    0.,    0.,    0.,    0.,\n",
       "           0.,    0.,  253.,  252.,  195.,    0.,    0.,    0.,    0.,\n",
       "           0.],\n",
       "       [   0.,    0.,    0.,    0.,    0.,    0.,    0.,  198.,  253.,\n",
       "         190.,    0.,    0.,    0.,    0.,    0.,    0.,    0.,    0.,\n",
       "           0.,    0.,  255.,  253.,  196.,    0.,    0.,    0.,    0.,\n",
       "           0.],\n",
       "       [   0.,    0.,    0.,    0.,    0.,    0.,   76.,  246.,  252.,\n",
       "         112.,    0.,    0.,    0.,    0.,    0.,    0.,    0.,    0.,\n",
       "           0.,    0.,  253.,  252.,  148.,    0.,    0.,    0.,    0.,\n",
       "           0.],\n",
       "       [   0.,    0.,    0.,    0.,    0.,    0.,   85.,  252.,  230.,\n",
       "          25.,    0.,    0.,    0.,    0.,    0.,    0.,    0.,    0.,\n",
       "           7.,  135.,  253.,  186.,   12.,    0.,    0.,    0.,    0.,\n",
       "           0.],\n",
       "       [   0.,    0.,    0.,    0.,    0.,    0.,   85.,  252.,  223.,\n",
       "           0.,    0.,    0.,    0.,    0.,    0.,    0.,    0.,    7.,\n",
       "         131.,  252.,  225.,   71.,    0.,    0.,    0.,    0.,    0.,\n",
       "           0.],\n",
       "       [   0.,    0.,    0.,    0.,    0.,    0.,   85.,  252.,  145.,\n",
       "           0.,    0.,    0.,    0.,    0.,    0.,    0.,   48.,  165.,\n",
       "         252.,  173.,    0.,    0.,    0.,    0.,    0.,    0.,    0.,\n",
       "           0.],\n",
       "       [   0.,    0.,    0.,    0.,    0.,    0.,   86.,  253.,  225.,\n",
       "           0.,    0.,    0.,    0.,    0.,    0.,  114.,  238.,  253.,\n",
       "         162.,    0.,    0.,    0.,    0.,    0.,    0.,    0.,    0.,\n",
       "           0.],\n",
       "       [   0.,    0.,    0.,    0.,    0.,    0.,   85.,  252.,  249.,\n",
       "         146.,   48.,   29.,   85.,  178.,  225.,  253.,  223.,  167.,\n",
       "          56.,    0.,    0.,    0.,    0.,    0.,    0.,    0.,    0.,\n",
       "           0.],\n",
       "       [   0.,    0.,    0.,    0.,    0.,    0.,   85.,  252.,  252.,\n",
       "         252.,  229.,  215.,  252.,  252.,  252.,  196.,  130.,    0.,\n",
       "           0.,    0.,    0.,    0.,    0.,    0.,    0.,    0.,    0.,\n",
       "           0.],\n",
       "       [   0.,    0.,    0.,    0.,    0.,    0.,   28.,  199.,  252.,\n",
       "         252.,  253.,  252.,  252.,  233.,  145.,    0.,    0.,    0.,\n",
       "           0.,    0.,    0.,    0.,    0.,    0.,    0.,    0.,    0.,\n",
       "           0.],\n",
       "       [   0.,    0.,    0.,    0.,    0.,    0.,    0.,   25.,  128.,\n",
       "         252.,  253.,  252.,  141.,   37.,    0.,    0.,    0.,    0.,\n",
       "           0.,    0.,    0.,    0.,    0.,    0.,    0.,    0.,    0.,\n",
       "           0.],\n",
       "       [   0.,    0.,    0.,    0.,    0.,    0.,    0.,    0.,    0.,\n",
       "           0.,    0.,    0.,    0.,    0.,    0.,    0.,    0.,    0.,\n",
       "           0.,    0.,    0.,    0.,    0.,    0.,    0.,    0.,    0.,\n",
       "           0.],\n",
       "       [   0.,    0.,    0.,    0.,    0.,    0.,    0.,    0.,    0.,\n",
       "           0.,    0.,    0.,    0.,    0.,    0.,    0.,    0.,    0.,\n",
       "           0.,    0.,    0.,    0.,    0.,    0.,    0.,    0.,    0.,\n",
       "           0.],\n",
       "       [   0.,    0.,    0.,    0.,    0.,    0.,    0.,    0.,    0.,\n",
       "           0.,    0.,    0.,    0.,    0.,    0.,    0.,    0.,    0.,\n",
       "           0.,    0.,    0.,    0.,    0.,    0.,    0.,    0.,    0.,\n",
       "           0.],\n",
       "       [   0.,    0.,    0.,    0.,    0.,    0.,    0.,    0.,    0.,\n",
       "           0.,    0.,    0.,    0.,    0.,    0.,    0.,    0.,    0.,\n",
       "           0.,    0.,    0.,    0.,    0.,    0.,    0.,    0.,    0.,\n",
       "           0.]])"
      ]
     },
     "execution_count": 4,
     "metadata": {},
     "output_type": "execute_result"
    }
   ],
   "source": [
    "data_training[1].reshape(28,28)"
   ]
  },
  {
   "cell_type": "markdown",
   "metadata": {},
   "source": [
    "Viewing data by Pillow (PIL)\n",
    "\n",
    "http://www.mwsoft.jp/programming/computer_vision_with_python/1_3_numpy.html"
   ]
  },
  {
   "cell_type": "code",
   "execution_count": 17,
   "metadata": {},
   "outputs": [
    {
     "data": {
      "text/plain": [
       "<matplotlib.image.AxesImage at 0x1bb82dc7240>"
      ]
     },
     "execution_count": 17,
     "metadata": {},
     "output_type": "execute_result"
    },
    {
     "data": {
      "image/png": "[encoded data removed]",
      "text/plain": [
       "<matplotlib.figure.Figure at 0x1bb83542160>"
      ]
     },
     "metadata": {},
     "output_type": "display_data"
    }
   ],
   "source": [
    "from PIL import Image\n",
    "import numpy as np\n",
    "from matplotlib import pylab as plt\n",
    "%matplotlib inline\n",
    "\n",
    "plt.imshow(data_training[1].reshape(28,28))"
   ]
  },
  {
   "cell_type": "markdown",
   "metadata": {},
   "source": [
    "## Data conversion\n",
    "\n",
    "- http://d.hatena.ne.jp/white_wheels/20100322/p1\n",
    "- http://stackoverflow.com/questions/37558523/converting-2d-numpy-array-of-grayscale-values-to-a-pil-image\n",
    "\n",
    "imshowはカラーマップを指定してグレースケールを表示させる。そうしないとマップが違うので絵がキモい。\n",
    "ついでに8bitのグレースケールに変換してみる。"
   ]
  },
  {
   "cell_type": "code",
   "execution_count": 66,
   "metadata": {},
   "outputs": [
    {
     "data": {
      "image/png": "[encoded data removed]",
      "text/plain": [
       "<matplotlib.figure.Figure at 0x1bb86023be0>"
      ]
     },
     "metadata": {},
     "output_type": "display_data"
    }
   ],
   "source": [
    "for i in range(1, 101):\n",
    "  plt.subplot(3,10, i)\n",
    "  plt.imshow( Image.fromarray(data_training[i - 1].astype(np.uint8).reshape(28,28),'L' ),cmap='gray', interpolation='nearest', vmin=0, vmax=255)"
   ]
  },
  {
   "cell_type": "markdown",
   "metadata": {},
   "source": [
    "matplotlibのimshowを使うのであれば、PILは不要であった（汗\n",
    "\n",
    "それぞれの画像のx,yの数字を取ればもっときれいに表示できるだろう。"
   ]
  },
  {
   "cell_type": "markdown",
   "metadata": {},
   "source": [
    "# NMFの適用\n",
    "\n",
    "呼んできたデータにNMFをかけてみる。\n",
    "まず、トレーニングデータの数を確認する。"
   ]
  },
  {
   "cell_type": "code",
   "execution_count": 23,
   "metadata": {},
   "outputs": [
    {
     "data": {
      "text/plain": [
       "(60000, 784)"
      ]
     },
     "execution_count": 23,
     "metadata": {},
     "output_type": "execute_result"
    }
   ],
   "source": [
    "np.shape(data_training)"
   ]
  },
  {
   "cell_type": "markdown",
   "metadata": {},
   "source": [
    "1500個のデータを選んでこよう "
   ]
  },
  {
   "cell_type": "code",
   "execution_count": 36,
   "metadata": {},
   "outputs": [],
   "source": [
    "idx = np.random.permutation(60000)\n",
    "train = data_training[idx][:1500]"
   ]
  },
  {
   "cell_type": "code",
   "execution_count": 37,
   "metadata": {},
   "outputs": [
    {
     "data": {
      "text/plain": [
       "(1500, 784)"
      ]
     },
     "execution_count": 37,
     "metadata": {},
     "output_type": "execute_result"
    }
   ],
   "source": [
    "np.shape(train)"
   ]
  },
  {
   "cell_type": "markdown",
   "metadata": {},
   "source": [
    "NMFのクラスは以下のようになる。"
   ]
  },
  {
   "cell_type": "code",
   "execution_count": 50,
   "metadata": {
    "collapsed": true
   },
   "outputs": [],
   "source": [
    "import math as math\n",
    "\n",
    "class NMF(object):\n",
    "    ''' caliculates NMF'''\n",
    "    ''' requires 2-dimentional numpy array'''\n",
    "    def __init__(self, Y, k):\n",
    "        assert len(np.shape(Y)) == 2, 'Matrix size error (shold be 2-d array)'\n",
    "        self.m = np.shape(Y)[0] \n",
    "        self.n = np.shape(Y)[1]\n",
    "        self.Y = Y\n",
    "        self.k = k\n",
    "        self.eps = 0.0000001\n",
    "        self.__initialize()\n",
    "    '''update dictionary and coefficient'''\n",
    "    def update(self):\n",
    "        # aliases\n",
    "        H = self.H\n",
    "        U = self.U\n",
    "        Y = self.Y\n",
    "        self.H = H*Y.dot(U.T)/(H.dot(U.dot(U.T))+self.eps)\n",
    "        H = self.H\n",
    "        self.U = U*H.T.dot(Y)/(H.T.dot(H).dot(U)+self.eps)\n",
    "    '''initialize dictionary and coefficient'''\n",
    "    def __initialize(self): \n",
    "        self.H = self.Y[:,:self.k].copy()\n",
    "        self.U = np.random.ranf(self.k*self.n).reshape(self.k,self.n)            \n",
    "    '''returns dictionary'''\n",
    "    def get_dic(self):\n",
    "        return self.H\n",
    "    '''returns coefficient'''\n",
    "    def get_coef(self):\n",
    "        return self.U\n",
    "    '''evaluate error by '''\n",
    "    def error(self):\n",
    "        diff=self.Y-self.H.dot(self.U)\n",
    "        return math.sqrt(sum(sum(diff*diff)))"
   ]
  },
  {
   "cell_type": "markdown",
   "metadata": {},
   "source": [
    "\n",
    "$k=15$としてNMFを計算してみよう。トレーニングデータからランダムに1500個選んで計算している。\n",
    "\n",
    "まずはシャッフルして先頭から15個のデータを表示してみよう"
   ]
  },
  {
   "cell_type": "code",
   "execution_count": 85,
   "metadata": {},
   "outputs": [
    {
     "data": {
      "image/png": "[encoded data removed]",
      "text/plain": [
       "<matplotlib.figure.Figure at 0x1bb82e6ddd8>"
      ]
     },
     "metadata": {},
     "output_type": "display_data"
    }
   ],
   "source": [
    "idx = np.random.permutation(60000)\n",
    "Y = data_training[idx][:1500].T\n",
    "for i in range(1, 16):\n",
    "  plt.subplot(3,5, i)\n",
    "  plt.imshow(Y[:, i - 1].reshape(28,28), cmap='gray', interpolation='nearest', vmin=0, vmax=255)\n",
    "mst = NMF(Y,15)"
   ]
  },
  {
   "cell_type": "markdown",
   "metadata": {},
   "source": [
    "繰り返しを計算してみる。"
   ]
  },
  {
   "cell_type": "code",
   "execution_count": 70,
   "metadata": {},
   "outputs": [
    {
     "data": {
      "text/plain": [
       "412588.959138567"
      ]
     },
     "execution_count": 70,
     "metadata": {},
     "output_type": "execute_result"
    }
   ],
   "source": [
    "mst.error()"
   ]
  },
  {
   "cell_type": "code",
   "execution_count": 72,
   "metadata": {
    "collapsed": true
   },
   "outputs": [
    {
     "name": "stdout",
     "output_type": "stream",
     "text": [
      "0 52352.080622031644\n",
      "200 52350.836811869725\n",
      "400 52349.88599571792\n",
      "600 52349.36775014726\n",
      "800 52349.172562118874\n",
      "1000 52348.432603140995\n",
      "1200 52347.32433105894\n",
      "1400 52346.92725836521\n",
      "1600 52346.587115207796\n",
      "1800 52346.26447113286\n",
      "2000 52345.118094468766\n",
      "2200 52344.894846233336\n",
      "2400 52344.507849116635\n",
      "2600 52344.103339749076\n",
      "2800 52343.969408124256\n",
      "3000 52343.68610742117\n",
      "3200 52343.51935956399\n",
      "3400 52343.48531402522\n",
      "3600 52343.34949452437\n",
      "3800 52343.26020429594\n",
      "4000 52343.162179757564\n",
      "4200 52343.00560119361\n",
      "4400 52342.86068855315\n",
      "4600 52342.82219393524\n",
      "4800 52342.7961489625\n",
      "5000 52342.63095006964\n",
      "5200 52342.62845014229\n",
      "5400 52342.592824865686\n",
      "5600 52342.53639914697\n",
      "5800 52342.37701981\n",
      "6000 52342.341954400516\n",
      "6200 52342.30347127537\n",
      "6400 52342.28543329657\n",
      "6600 52342.209039875364\n",
      "6800 52342.08200858953\n",
      "7000 52342.06489414677\n",
      "7200 52342.03704742202\n",
      "7400 52341.976396239515\n",
      "7600 52341.94910790251\n",
      "7800 52341.74947432418\n",
      "8000 52341.725405528035\n",
      "8200 52341.72147000721\n",
      "8400 52341.70423467109\n",
      "8600 52341.69954699591\n",
      "8800 52341.68598330527\n",
      "9000 52341.32997470215\n",
      "9200 52341.21080825351\n",
      "9400 52341.16475104885\n",
      "9600 52341.160772656935\n",
      "9800 52341.159252169055\n",
      "10000 52341.13309203616\n",
      "10200 52341.129764224555\n",
      "10400 52341.11674331375\n",
      "10600 52341.113121028604\n",
      "10800 52341.11224624839\n",
      "11000 52340.92959420787\n",
      "11200 52340.92768535002\n",
      "11400 52340.91046563569\n",
      "11600 52340.9014936354\n",
      "11800 52340.82118898037\n",
      "12000 52340.786334372555\n",
      "12200 52340.776452906146\n",
      "12400 52340.77513395784\n",
      "12600 52340.7712740973\n",
      "12800 52340.76367784877\n",
      "13000 52340.75054893486\n",
      "13200 52340.73760766537\n",
      "13400 52340.7302939492\n",
      "13600 52340.719558610566\n",
      "13800 52340.71705630219\n",
      "14000 52340.71633619587\n",
      "14200 52340.71160753755\n",
      "14400 52340.70986421437\n",
      "14600 52340.70800057065\n",
      "14800 52340.70431199801\n",
      "15000 52340.704304139115\n",
      "15200 52340.70429929106\n",
      "15400 52340.69041518141\n",
      "15600 52340.68113503373\n",
      "15800 52340.67119225363\n",
      "16000 52340.66998669305\n",
      "16200 52340.664181658714\n",
      "16400 52340.647040163276\n",
      "16600 52340.53043212326\n",
      "16800 52340.522779291605\n",
      "17000 52340.51208043712\n",
      "17200 52340.50843613072\n",
      "17400 52340.50725790156\n",
      "17600 52340.50685790032\n",
      "17800 52340.50110209562\n",
      "18000 52340.4982537915\n",
      "18200 52340.49740491113\n",
      "18400 52340.49033720678\n",
      "18600 52340.47568030749\n",
      "18800 52340.46421092821\n",
      "19000 52340.45965096594\n",
      "19200 52340.45908749502\n",
      "19400 52340.45900336465\n",
      "19600 52340.458978924755\n",
      "19800 52340.458928198444\n"
     ]
    }
   ],
   "source": [
    "for i in range(20000):\n",
    "    mst.update()\n",
    "    if(i%200 == 0):\n",
    "        print(i, mst.error())"
   ]
  },
  {
   "cell_type": "markdown",
   "metadata": {},
   "source": [
    "誤差があまり下がっていない様子だが、気にせず辞書を表示してみよう。"
   ]
  },
  {
   "cell_type": "code",
   "execution_count": 73,
   "metadata": {},
   "outputs": [
    {
     "name": "stdout",
     "output_type": "stream",
     "text": [
      "(784, 15)\n"
     ]
    },
    {
     "data": {
      "image/png": "[encoded data removed]",
      "text/plain": [
       "<matplotlib.figure.Figure at 0x1bb82ee2e10>"
      ]
     },
     "metadata": {},
     "output_type": "display_data"
    }
   ],
   "source": [
    "H=mst.get_dic()\n",
    "print(np.shape(H))\n",
    "for i in range(1, 16):\n",
    "  plt.subplot(3,5, i)\n",
    "  plt.imshow( H[:,i - 1].reshape(28,28),cmap='gray', interpolation='nearest', vmin=0, vmax=255)"
   ]
  },
  {
   "cell_type": "markdown",
   "metadata": {},
   "source": [
    "復元した結果を見てみる。$\\bf{HU}$を計算する際に、対応する列を取り出してから計算する。"
   ]
  },
  {
   "cell_type": "code",
   "execution_count": 74,
   "metadata": {},
   "outputs": [
    {
     "name": "stdout",
     "output_type": "stream",
     "text": [
      "(15, 1500)\n"
     ]
    },
    {
     "data": {
      "image/png": "[encoded data removed]",
      "text/plain": [
       "<matplotlib.figure.Figure at 0x1bb83a2c5f8>"
      ]
     },
     "metadata": {},
     "output_type": "display_data"
    }
   ],
   "source": [
    "U=mst.get_coef()\n",
    "print(np.shape(U))\n",
    "for i in range(1, 16):\n",
    "  plt.subplot(3,5, i)\n",
    "  plt.imshow( H.dot(U[:,i]).reshape(28,28),cmap='gray', interpolation='nearest', vmin=0, vmax=255)"
   ]
  },
  {
   "cell_type": "markdown",
   "metadata": {},
   "source": [
    "ぼやけてしまっている。\n",
    "\n",
    "今度は$k=30$でやってみよう。"
   ]
  },
  {
   "cell_type": "code",
   "execution_count": 75,
   "metadata": {
    "collapsed": true
   },
   "outputs": [
    {
     "name": "stdout",
     "output_type": "stream",
     "text": [
      "0 860492.9997704428\n",
      "0 66702.12820197159\n",
      "200 44632.94933903081\n",
      "400 44285.5520173761\n",
      "600 44187.73631410317\n",
      "800 44135.46172380417\n",
      "1000 44090.3493685146\n",
      "1200 44054.24977298041\n",
      "1400 44029.357248022454\n",
      "1600 44011.888050897505\n",
      "1800 43995.64169403923\n",
      "2000 43980.38963297636\n",
      "2200 43959.78894493518\n",
      "2400 43950.27898180071\n",
      "2600 43941.50579436035\n",
      "2800 43934.595555464446\n",
      "3000 43929.081569388625\n",
      "3200 43924.20085467509\n",
      "3400 43919.54322621397\n",
      "3600 43915.77475984038\n",
      "3800 43911.213456800055\n",
      "4000 43906.094454406775\n",
      "4200 43901.76809334255\n",
      "4400 43896.964519100606\n",
      "4600 43891.88090765537\n",
      "4800 43884.59632650911\n",
      "5000 43878.66800601097\n",
      "5200 43872.6467889019\n",
      "5400 43868.5953978\n",
      "5600 43857.590705967916\n",
      "5800 43849.51903592195\n",
      "6000 43842.07444003267\n",
      "6200 43835.6277957204\n",
      "6400 43827.25650245978\n",
      "6600 43817.307810063954\n",
      "6800 43811.85780346021\n",
      "7000 43803.62417555493\n",
      "7200 43796.02931674289\n",
      "7400 43790.953765706596\n",
      "7600 43787.3213715984\n",
      "7800 43781.16063272241\n",
      "8000 43772.220483716796\n",
      "8200 43768.62807250692\n",
      "8400 43765.026115567176\n",
      "8600 43761.04414558693\n",
      "8800 43758.335410450556\n",
      "9000 43756.213417359504\n",
      "9200 43754.40687241628\n",
      "9400 43751.79981110748\n",
      "9600 43748.85958786519\n",
      "9800 43747.12477179164\n",
      "10000 43745.09801634726\n",
      "10200 43743.558963482894\n",
      "10400 43742.518051374245\n",
      "10600 43738.62557030215\n",
      "10800 43737.83189201719\n",
      "11000 43735.477060028716\n",
      "11200 43731.599117190504\n",
      "11400 43729.35198211583\n",
      "11600 43727.64588320927\n",
      "11800 43726.398204493744\n",
      "12000 43726.041994699015\n",
      "12200 43725.54480519047\n",
      "12400 43724.98363384739\n",
      "12600 43724.56073373037\n",
      "12800 43723.87815848267\n",
      "13000 43723.05821800592\n",
      "13200 43722.32104155729\n",
      "13400 43721.87469210435\n",
      "13600 43719.857680483554\n",
      "13800 43719.19824818467\n",
      "14000 43718.60090022179\n",
      "14200 43718.14508000547\n",
      "14400 43717.986666510165\n",
      "14600 43717.55682432884\n",
      "14800 43717.29360224414\n",
      "15000 43717.09944777993\n",
      "15200 43716.518273464746\n",
      "15400 43715.786373710456\n",
      "15600 43715.19148960237\n",
      "15800 43714.79218608096\n",
      "16000 43714.11196241627\n",
      "16200 43713.66397742718\n",
      "16400 43713.360174362286\n",
      "16600 43712.643074164116\n",
      "16800 43712.37130801441\n",
      "17000 43712.20060160509\n",
      "17200 43711.75155384855\n",
      "17400 43711.147945470584\n",
      "17600 43710.56406075145\n",
      "17800 43709.56993904367\n",
      "18000 43709.265032451716\n",
      "18200 43708.93733256868\n",
      "18400 43708.673196594216\n",
      "18600 43708.2745836727\n",
      "18800 43708.11902121167\n",
      "19000 43707.52284192693\n",
      "19200 43707.170842489344\n",
      "19400 43707.09172154872\n",
      "19600 43706.79735095391\n",
      "19800 43706.68172706586\n"
     ]
    }
   ],
   "source": [
    "idx = np.random.permutation(60000)\n",
    "Y = data_training[idx][:1500].T\n",
    "mst = NMF(Y,30)\n",
    "print(0, mst.error())\n",
    "for i in range(20000):\n",
    "    mst.update()\n",
    "    if(i%200 == 0):\n",
    "        print(i, mst.error())"
   ]
  },
  {
   "cell_type": "markdown",
   "metadata": {},
   "source": [
    "先ほどよりも誤差は下がっているようだ。"
   ]
  },
  {
   "cell_type": "code",
   "execution_count": 86,
   "metadata": {},
   "outputs": [
    {
     "name": "stdout",
     "output_type": "stream",
     "text": [
      "(784, 30)\n"
     ]
    },
    {
     "data": {
      "image/png": "[encoded data removed]",
      "text/plain": [
       "<matplotlib.figure.Figure at 0x1bb839629b0>"
      ]
     },
     "metadata": {},
     "output_type": "display_data"
    }
   ],
   "source": [
    "H=mst.get_dic()\n",
    "print(np.shape(H))\n",
    "for i in range(1, 31):\n",
    "  plt.subplot(5,6, i)\n",
    "  plt.imshow( H[:,i - 1].reshape(28,28),cmap='gray', interpolation='nearest', vmin=0, vmax=255)"
   ]
  },
  {
   "cell_type": "markdown",
   "metadata": {},
   "source": [
    "復元してみる。"
   ]
  },
  {
   "cell_type": "code",
   "execution_count": 83,
   "metadata": {},
   "outputs": [
    {
     "name": "stdout",
     "output_type": "stream",
     "text": [
      "(30, 1500)\n"
     ]
    },
    {
     "data": {
      "image/png": "[encoded data removed]",
      "text/plain": [
       "<matplotlib.figure.Figure at 0x1bb85e62390>"
      ]
     },
     "metadata": {},
     "output_type": "display_data"
    }
   ],
   "source": [
    "U=mst.get_coef()\n",
    "print(np.shape(U))\n",
    "for i in range(1, 16):\n",
    "  plt.subplot(3,5, i)\n",
    "  plt.imshow( H.dot(U[:,i-1]).reshape(28,28),cmap='gray', interpolation='nearest', vmin=0, vmax=255)"
   ]
  },
  {
   "cell_type": "markdown",
   "metadata": {},
   "source": [
    "先ほどよりもうまく復元できている。\n",
    "\n",
    "答えをもう一度見てみよう。"
   ]
  },
  {
   "cell_type": "code",
   "execution_count": 84,
   "metadata": {},
   "outputs": [
    {
     "data": {
      "image/png": "[encoded data removed]",
      "text/plain": [
       "<matplotlib.figure.Figure at 0x1bb836f7438>"
      ]
     },
     "metadata": {},
     "output_type": "display_data"
    }
   ],
   "source": [
    "for i in range(1, 16):\n",
    "  plt.subplot(3,5, i)\n",
    "  plt.imshow( Y[:,i-1].reshape(28,28),cmap='gray', interpolation='nearest', vmin=0, vmax=255)"
   ]
  },
  {
   "cell_type": "markdown",
   "metadata": {},
   "source": [
    "ぼやけているが使えるかもしれない。\n",
    "\n",
    "この後、係数のベクトルを入力に、答えを教師信号にして、学習をしてみれば、\n",
    "NMFの前処理と認識精度の関係がわかるだろう。"
   ]
  },
  {
   "cell_type": "code",
   "execution_count": null,
   "metadata": {
    "collapsed": true
   },
   "outputs": [],
   "source": []
  }
 ],
 "metadata": {
  "kernelspec": {
   "display_name": "Python 3",
   "language": "python",
   "name": "python3"
  },
  "language_info": {
   "codemirror_mode": {
    "name": "ipython",
    "version": 3
   },
   "file_extension": ".py",
   "mimetype": "text/x-python",
   "name": "python",
   "nbconvert_exporter": "python",
   "pygments_lexer": "ipython3",
   "version": "3.4.2"
  }
 },
 "nbformat": 4,
 "nbformat_minor": 2
}

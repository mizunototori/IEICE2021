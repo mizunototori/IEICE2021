{
 "cells": [
  {
   "cell_type": "markdown",
   "metadata": {},
   "source": [
    "# Hoyerのprojfuncについて振る舞いの考察\n",
    "## 目的\n",
    "負の値を正の値にするのに適しているか結論づける\n",
    "## 方法\n",
    "- ベクトル[1, 1]の時にどのように値が動くか?\n",
    "- ベクトル[-1, -1]の時にどのように値が動くか?\n",
    "- 上記のような入力でプログラムと数式のをトレースする"
   ]
  },
  {
   "cell_type": "code",
   "execution_count": 2,
   "metadata": {},
   "outputs": [],
   "source": [
    "from nsr_utils import _projfunc\n",
    "import numpy as np"
   ]
  },
  {
   "cell_type": "markdown",
   "metadata": {},
   "source": [
    "### ベクトル[1, 1]の時にどのように値が動くか?"
   ]
  },
  {
   "cell_type": "code",
   "execution_count": 18,
   "metadata": {},
   "outputs": [
    {
     "name": "stdout",
     "output_type": "stream",
     "text": [
      "x shape:  (2, 1)\n",
      "k1, k2: [2] [2]\n",
      "result: [[1.]\n",
      " [1.]]\n"
     ]
    }
   ],
   "source": [
    "x = np.array([[1],[1]])\n",
    "print('x shape: ',  x.shape)\n",
    "k1 = sum(abs(x))\n",
    "k2 = sum(x ** 2)\n",
    "print('k1, k2:', k1, k2)\n",
    "result = _projfunc(x, k1, k2, nn=True)[0]\n",
    "print('result:', result)"
   ]
  },
  {
   "cell_type": "markdown",
   "metadata": {},
   "source": [
    "### ベクトル[-1, -1]の時にどのように値が動くか?"
   ]
  },
  {
   "cell_type": "code",
   "execution_count": 13,
   "metadata": {},
   "outputs": [
    {
     "name": "stdout",
     "output_type": "stream",
     "text": [
      "x shape:  (2, 1)\n",
      "result: [[1.]\n",
      " [1.]]\n"
     ]
    }
   ],
   "source": [
    "x = np.array([[-1],[-1]])\n",
    "print('x shape: ',  x.shape)\n",
    "k1 = sum(abs(x))\n",
    "k2 = sum(x ** 2)\n",
    "result = _projfunc(x, k1, k2, nn=True)[0]\n",
    "print('result:', result)"
   ]
  },
  {
   "cell_type": "markdown",
   "metadata": {},
   "source": [
    "### ベクトル[-1, -1]の時のプログラムのトレース"
   ]
  },
  {
   "cell_type": "markdown",
   "metadata": {},
   "source": [
    "1. start by projecting the point to the sum constraint\n",
    "$\\sum s_i = L_1$の超平面に投射することから始める\n",
    "```\n",
    "v = s + (k1 - np.sum(s)) / N\n",
    "```\n",
    "$s_i := x_i + (L_1 - \\sum x_i) / dim(\\bf x)$"
   ]
  },
  {
   "cell_type": "markdown",
   "metadata": {},
   "source": [
    "2. Set $Z := \\{\\}$"
   ]
  },
  {
   "cell_type": "markdown",
   "metadata": {},
   "source": [
    "3. Iterate\n",
    "\n",
    "(a) Set m_i = {L_1 / (dim($\\bf x$) - size(Z))}  第一象限に$L_1$の大きさによって中点を与える (なるべく平均的なベクトル)\n",
    "\n",
    "(b) Set $\\bf s:= m+\\alpha(s - m)$ sはL2制約を満たすような. "
   ]
  },
  {
   "cell_type": "markdown",
   "metadata": {},
   "source": [
    "2. Next, within this space, we project to the closest point on the joint constraint hypersphere\n",
    "(intersection of the sum and the $L_2$ constraints)"
   ]
  },
  {
   "cell_type": "code",
   "execution_count": null,
   "metadata": {},
   "outputs": [],
   "source": []
  }
 ],
 "metadata": {
  "kernelspec": {
   "display_name": "Python 3",
   "language": "python",
   "name": "python3"
  },
  "language_info": {
   "codemirror_mode": {
    "name": "ipython",
    "version": 3
   },
   "file_extension": ".py",
   "mimetype": "text/x-python",
   "name": "python",
   "nbconvert_exporter": "python",
   "pygments_lexer": "ipython3",
   "version": "3.7.1"
  }
 },
 "nbformat": 4,
 "nbformat_minor": 2
}

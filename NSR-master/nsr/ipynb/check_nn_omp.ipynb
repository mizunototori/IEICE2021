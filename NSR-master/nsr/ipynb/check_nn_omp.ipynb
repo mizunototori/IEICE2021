{
 "cells": [
  {
   "cell_type": "markdown",
   "metadata": {},
   "source": [
    "# 非負のOMPによるスパース符号化\n",
    "\n",
    "## 目的\n",
    "- 最終的なゴールはNN-KSVD\n",
    "- 今回はNN-KSVD内で用いる非負のOMP(NN-OMP)をテストする\n",
    "- NN-OMPは`pyomp`と言うライブラリを用いる\n",
    "- また、非負制約を用いないOMPについても実行し結果をみる\n",
    "\n",
    "## テストする方法\n",
    "- 信号y (真の辞書とスパースコードをランダムに生成しそれらの積)だけから元の辞書とスパースコードを復元する\n"
   ]
  },
  {
   "cell_type": "markdown",
   "metadata": {},
   "source": [
    "### ライブラリのインポート"
   ]
  },
  {
   "cell_type": "code",
   "execution_count": 12,
   "metadata": {},
   "outputs": [],
   "source": [
    "import matplotlib.pyplot as plt\n",
    "import numpy as np\n",
    "from nsr import _make_nn_sparse_coded_signal\n",
    "from pyomp.omp import omp "
   ]
  },
  {
   "cell_type": "markdown",
   "metadata": {},
   "source": [
    "### 真の辞書とスパースコードをランダムに生成し、信号yを作成する"
   ]
  },
  {
   "cell_type": "code",
   "execution_count": 15,
   "metadata": {},
   "outputs": [],
   "source": [
    "n_components, n_features = 512, 100\n",
    "n_nonzero_coefs = 17\n",
    "y, X, w = _make_nn_sparse_coded_signal(n_samples=1,\n",
    "                                   n_components=n_components,\n",
    "                                   n_features=n_features,\n",
    "                                   n_nonzero_coefs=n_nonzero_coefs,\n",
    "                                   random_state=0)\n",
    "idx, = w.nonzero()"
   ]
  },
  {
   "cell_type": "markdown",
   "metadata": {},
   "source": [
    "### 真のスパース信号をプロット"
   ]
  },
  {
   "cell_type": "code",
   "execution_count": 16,
   "metadata": {},
   "outputs": [
    {
     "data": {
      "text/plain": [
       "<Container object of 3 artists>"
      ]
     },
     "execution_count": 16,
     "metadata": {},
     "output_type": "execute_result"
    },
    {
     "data": {
      "image/png": "[encoded data removed]",
      "text/plain": [
       "<matplotlib.figure.Figure at 0x109a66390>"
      ]
     },
     "metadata": {},
     "output_type": "display_data"
    }
   ],
   "source": [
    "plt.figure(figsize=(7, 7))\n",
    "plt.subplot(4, 1, 1)\n",
    "plt.xlim(0, 512)\n",
    "plt.title(\"Sparse signal\")\n",
    "plt.stem(idx, w[idx])"
   ]
  },
  {
   "cell_type": "markdown",
   "metadata": {},
   "source": [
    "### ライブラリを用いて非負のOMPを実行"
   ]
  },
  {
   "cell_type": "code",
   "execution_count": 51,
   "metadata": {},
   "outputs": [
    {
     "name": "stdout",
     "output_type": "stream",
     "text": [
      "\n",
      "Found solution with max number of coefficients.\n"
     ]
    }
   ],
   "source": [
    "omp_result = omp(X, y, ncoef=n_nonzero_coefs, nonneg=True, verbose=False)\n",
    "est_w = omp_result.coef\n",
    "est_idx, = est_w.nonzero()"
   ]
  },
  {
   "cell_type": "markdown",
   "metadata": {},
   "source": [
    "### OMPによって計算されたスパース信号をプロット"
   ]
  },
  {
   "cell_type": "code",
   "execution_count": 52,
   "metadata": {},
   "outputs": [
    {
     "data": {
      "text/plain": [
       "<Container object of 3 artists>"
      ]
     },
     "execution_count": 52,
     "metadata": {},
     "output_type": "execute_result"
    },
    {
     "data": {
      "image/png": "[encoded data removed]",
      "text/plain": [
       "<matplotlib.figure.Figure at 0x10a0b2080>"
      ]
     },
     "metadata": {},
     "output_type": "display_data"
    }
   ],
   "source": [
    "plt.figure(figsize=(7, 7))\n",
    "plt.subplot(4, 1, 1)\n",
    "plt.xlim(0, 512)\n",
    "plt.title(\"Sparse signal\")\n",
    "plt.stem(idx, w[idx])"
   ]
  },
  {
   "cell_type": "markdown",
   "metadata": {},
   "source": [
    "結果から、正しく非負のスパース信号が得られることがわかった。"
   ]
  },
  {
   "cell_type": "markdown",
   "metadata": {},
   "source": [
    "### 非負制約のないOMP"
   ]
  },
  {
   "cell_type": "code",
   "execution_count": 63,
   "metadata": {},
   "outputs": [],
   "source": [
    "from sklearn.linear_model import OrthogonalMatchingPursuit\n",
    "omp_model = OrthogonalMatchingPursuit(n_nonzero_coefs=n_nonzero_coefs)\n",
    "omp_model.fit(X, y)\n",
    "coef = omp_model.coef_\n",
    "idx_r, = coef.nonzero()"
   ]
  },
  {
   "cell_type": "code",
   "execution_count": 65,
   "metadata": {},
   "outputs": [
    {
     "data": {
      "text/plain": [
       "<Container object of 3 artists>"
      ]
     },
     "execution_count": 65,
     "metadata": {},
     "output_type": "execute_result"
    },
    {
     "data": {
      "image/png": "[encoded data removed]",
      "text/plain": [
       "<matplotlib.figure.Figure at 0x10add9748>"
      ]
     },
     "metadata": {},
     "output_type": "display_data"
    }
   ],
   "source": [
    "plt.figure(figsize=(7, 7))\n",
    "plt.subplot(4, 1, 1)\n",
    "plt.xlim(0, 512)\n",
    "plt.title(\"Sparse signal\")\n",
    "plt.stem(idx_r, coef[idx_r])"
   ]
  },
  {
   "cell_type": "markdown",
   "metadata": {},
   "source": [
    "結果から、正しく非負のスパース信号が得られることがわかった。"
   ]
  },
  {
   "cell_type": "markdown",
   "metadata": {},
   "source": [
    "## 結論\n",
    "\n",
    "- NN-KSVD内で用いる非負のOMP(NN-OMP)をテストした\n",
    "- `pyomp`を用いて非負のOMPを実行し、真のスパース信号に近い非負のスパース信号を得ることができた。\n",
    "- `sklearn`ライブラリの非負制約なしOMPを実行し、真のスパース信号に近い非負のスパース信号を得ることができた。\n",
    "- 非負の制約なしにOMPを実行しても非負のスパース信号を得ることがわかった。\n"
   ]
  }
 ],
 "metadata": {
  "kernelspec": {
   "display_name": "Python 3",
   "language": "python",
   "name": "python3"
  },
  "language_info": {
   "codemirror_mode": {
    "name": "ipython",
    "version": 3
   },
   "file_extension": ".py",
   "mimetype": "text/x-python",
   "name": "python",
   "nbconvert_exporter": "python",
   "pygments_lexer": "ipython3",
   "version": "3.7.1"
  }
 },
 "nbformat": 4,
 "nbformat_minor": 2
}

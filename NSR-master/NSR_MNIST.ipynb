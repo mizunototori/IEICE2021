{
 "cells": [
  {
   "cell_type": "markdown",
   "metadata": {},
   "source": [
    "NSRでMNISTをする"
   ]
  },
  {
   "cell_type": "code",
   "execution_count": 6,
   "metadata": {},
   "outputs": [
    {
     "name": "stdout",
     "output_type": "stream",
     "text": [
      "(784, 1500)\n"
     ]
    },
    {
     "name": "stderr",
     "output_type": "stream",
     "text": [
      "/Users/quark/WorkSpace/Python/NMF/nsr/nsr.py:142: UserWarning: NSR expect over-complete dictionary; The dimensions should be n_features: 784 < n_components: 30\n",
      "  % (n_features, n_components))\n"
     ]
    },
    {
     "name": "stdout",
     "output_type": "stream",
     "text": [
      "Epoch 10 reached after 0.914 seconds, error: 22.327366, sparsity (mean): 0.537692\n",
      "Epoch 20 reached after 1.725 seconds, error: 21.167135, sparsity (mean): 0.574726\n",
      "Epoch 30 reached after 2.614 seconds, error: 20.741062, sparsity (mean): 0.578107\n",
      "Epoch 40 reached after 3.448 seconds, error: 20.517407, sparsity (mean): 0.576318\n",
      "Epoch 50 reached after 4.326 seconds, error: 20.376345, sparsity (mean): 0.573746\n",
      "Epoch 60 reached after 5.215 seconds, error: 20.281620, sparsity (mean): 0.571353\n",
      "Epoch 70 reached after 6.238 seconds, error: 20.215253, sparsity (mean): 0.569067\n",
      "Epoch 80 reached after 7.116 seconds, error: 20.164409, sparsity (mean): 0.566929\n",
      "Epoch 90 reached after 7.951 seconds, error: 20.140485, sparsity (mean): 0.565253\n",
      "Epoch 100 reached after 8.815 seconds, error: 20.089115, sparsity (mean): 0.563233\n",
      "Epoch 110 reached after 9.655 seconds, error: 20.069902, sparsity (mean): 0.561481\n",
      "Epoch 120 reached after 10.473 seconds, error: 20.039044, sparsity (mean): 0.559820\n",
      "Epoch 130 reached after 11.287 seconds, error: 20.024708, sparsity (mean): 0.558278\n",
      "Epoch 140 reached after 12.182 seconds, error: 20.005833, sparsity (mean): 0.556892\n",
      "Epoch 150 reached after 13.061 seconds, error: 20.000238, sparsity (mean): 0.555755\n",
      "Epoch 160 reached after 13.987 seconds, error: 20.023062, sparsity (mean): 0.557071\n",
      "Epoch 170 reached after 14.894 seconds, error: 20.964163, sparsity (mean): 0.554765\n",
      "Epoch 180 reached after 15.750 seconds, error: 40.932008, sparsity (mean): 0.622327\n",
      "Epoch 190 reached after 16.534 seconds, error: 180.778996, sparsity (mean): 0.799587\n",
      "Epoch 200 reached after 17.324 seconds, error: 179.149896, sparsity (mean): 0.841249\n",
      "Epoch 210 reached after 18.102 seconds, error: 68.889891, sparsity (mean): 0.849065\n",
      "Epoch 220 reached after 18.869 seconds, error: 278.604198, sparsity (mean): 0.861907\n",
      "Epoch 230 reached after 19.650 seconds, error: 109.605984, sparsity (mean): 0.851163\n",
      "Epoch 240 reached after 20.419 seconds, error: 71.559252, sparsity (mean): 0.827995\n",
      "Epoch 250 reached after 21.222 seconds, error: 46.206127, sparsity (mean): 0.903510\n",
      "Epoch 260 reached after 21.997 seconds, error: 587.880865, sparsity (mean): 0.879996\n",
      "Epoch 270 reached after 22.773 seconds, error: 467.919864, sparsity (mean): 0.876787\n",
      "Epoch 280 reached after 23.670 seconds, error: 72.997220, sparsity (mean): 0.877397\n",
      "Epoch 290 reached after 24.573 seconds, error: 51.441104, sparsity (mean): 0.892144\n",
      "Epoch 300 reached after 25.459 seconds, error: 97.012894, sparsity (mean): 0.883848\n"
     ]
    },
    {
     "ename": "KeyboardInterrupt",
     "evalue": "",
     "output_type": "error",
     "traceback": [
      "\u001b[0;31m---------------------------------------------------------------------------\u001b[0m",
      "\u001b[0;31mKeyboardInterrupt\u001b[0m                         Traceback (most recent call last)",
      "\u001b[0;32m<ipython-input-6-04ea311526a9>\u001b[0m in \u001b[0;36m<module>\u001b[0;34m()\u001b[0m\n\u001b[1;32m     38\u001b[0m \u001b[0;34m\u001b[0m\u001b[0m\n\u001b[1;32m     39\u001b[0m \u001b[0;32mif\u001b[0m \u001b[0m__name__\u001b[0m \u001b[0;34m==\u001b[0m \u001b[0;34m'__main__'\u001b[0m\u001b[0;34m:\u001b[0m\u001b[0;34m\u001b[0m\u001b[0m\n\u001b[0;32m---> 40\u001b[0;31m     \u001b[0ml1_exam_mnist\u001b[0m\u001b[0;34m(\u001b[0m\u001b[0;34m)\u001b[0m\u001b[0;34m\u001b[0m\u001b[0m\n\u001b[0m",
      "\u001b[0;32m<ipython-input-6-04ea311526a9>\u001b[0m in \u001b[0;36ml1_exam_mnist\u001b[0;34m()\u001b[0m\n\u001b[1;32m     22\u001b[0m     \u001b[0mmodel\u001b[0m \u001b[0;34m=\u001b[0m \u001b[0mNSR\u001b[0m\u001b[0;34m(\u001b[0m\u001b[0mn_components\u001b[0m\u001b[0;34m=\u001b[0m\u001b[0mn_components\u001b[0m\u001b[0;34m,\u001b[0m \u001b[0msolver\u001b[0m\u001b[0;34m=\u001b[0m\u001b[0;34m'mu'\u001b[0m\u001b[0;34m,\u001b[0m \u001b[0malpha\u001b[0m\u001b[0;34m=\u001b[0m\u001b[0;36m0.05\u001b[0m\u001b[0;34m,\u001b[0m \u001b[0mmax_iter\u001b[0m\u001b[0;34m=\u001b[0m\u001b[0;36m2000\u001b[0m\u001b[0;34m,\u001b[0m \u001b[0mtol\u001b[0m\u001b[0;34m=\u001b[0m\u001b[0;36m1e-14\u001b[0m\u001b[0;34m,\u001b[0m \u001b[0mverbose\u001b[0m\u001b[0;34m=\u001b[0m\u001b[0;36m1\u001b[0m\u001b[0;34m,\u001b[0m \u001b[0meval_log\u001b[0m\u001b[0;34m=\u001b[0m\u001b[0;32mTrue\u001b[0m\u001b[0;34m)\u001b[0m\u001b[0;34m\u001b[0m\u001b[0m\n\u001b[1;32m     23\u001b[0m \u001b[0;34m\u001b[0m\u001b[0m\n\u001b[0;32m---> 24\u001b[0;31m     \u001b[0mest_code\u001b[0m \u001b[0;34m=\u001b[0m \u001b[0mmodel\u001b[0m\u001b[0;34m.\u001b[0m\u001b[0mfit_transform\u001b[0m\u001b[0;34m(\u001b[0m\u001b[0mdata\u001b[0m\u001b[0;34m)\u001b[0m\u001b[0;34m\u001b[0m\u001b[0m\n\u001b[0m\u001b[1;32m     25\u001b[0m     \u001b[0mest_dictionary\u001b[0m \u001b[0;34m=\u001b[0m \u001b[0mmodel\u001b[0m\u001b[0;34m.\u001b[0m\u001b[0mdictionary\u001b[0m\u001b[0;34m\u001b[0m\u001b[0m\n\u001b[1;32m     26\u001b[0m     \u001b[0mest_logs\u001b[0m \u001b[0;34m=\u001b[0m \u001b[0mmodel\u001b[0m\u001b[0;34m.\u001b[0m\u001b[0mlogs\u001b[0m\u001b[0;34m\u001b[0m\u001b[0m\n",
      "\u001b[0;32m~/WorkSpace/Python/NMF/nsr/nsr.py\u001b[0m in \u001b[0;36mfit_transform\u001b[0;34m(self, data, true_dict)\u001b[0m\n\u001b[1;32m    387\u001b[0m                                                    \u001b[0mmax_iter\u001b[0m\u001b[0;34m=\u001b[0m\u001b[0mself\u001b[0m\u001b[0;34m.\u001b[0m\u001b[0mmax_iter\u001b[0m\u001b[0;34m,\u001b[0m\u001b[0;34m\u001b[0m\u001b[0m\n\u001b[1;32m    388\u001b[0m                                                    \u001b[0mverbose\u001b[0m\u001b[0;34m=\u001b[0m\u001b[0mself\u001b[0m\u001b[0;34m.\u001b[0m\u001b[0mverbose\u001b[0m\u001b[0;34m,\u001b[0m\u001b[0;34m\u001b[0m\u001b[0m\n\u001b[0;32m--> 389\u001b[0;31m                                                    eval_log=self.eval_log)\n\u001b[0m\u001b[1;32m    390\u001b[0m             \u001b[0mself\u001b[0m\u001b[0;34m.\u001b[0m\u001b[0mlogs\u001b[0m \u001b[0;34m=\u001b[0m \u001b[0mlogs\u001b[0m\u001b[0;34m\u001b[0m\u001b[0m\n\u001b[1;32m    391\u001b[0m \u001b[0;34m\u001b[0m\u001b[0m\n",
      "\u001b[0;32m~/WorkSpace/Python/NMF/nsr/nsr.py\u001b[0m in \u001b[0;36m_nonnegative_sparse_representation\u001b[0;34m(data, n_components, true_dict, solver, constraint, p, max_iter, alpha, tol, verbose, eval_log)\u001b[0m\n\u001b[1;32m    339\u001b[0m                                        \u001b[0malpha\u001b[0m\u001b[0;34m=\u001b[0m\u001b[0malpha\u001b[0m\u001b[0;34m,\u001b[0m \u001b[0mtol\u001b[0m\u001b[0;34m=\u001b[0m\u001b[0mtol\u001b[0m\u001b[0;34m,\u001b[0m\u001b[0;34m\u001b[0m\u001b[0m\n\u001b[1;32m    340\u001b[0m                                        \u001b[0mmax_iter\u001b[0m\u001b[0;34m=\u001b[0m\u001b[0mmax_iter\u001b[0m\u001b[0;34m,\u001b[0m \u001b[0mtrue_dict\u001b[0m\u001b[0;34m=\u001b[0m\u001b[0mtrue_dict\u001b[0m\u001b[0;34m,\u001b[0m\u001b[0;34m\u001b[0m\u001b[0m\n\u001b[0;32m--> 341\u001b[0;31m                                        verbose=verbose, eval_log=eval_log)\n\u001b[0m\u001b[1;32m    342\u001b[0m             \u001b[0;32mreturn\u001b[0m \u001b[0mdictionary\u001b[0m\u001b[0;34m,\u001b[0m \u001b[0mcode\u001b[0m\u001b[0;34m,\u001b[0m \u001b[0mn_iter\u001b[0m\u001b[0;34m,\u001b[0m \u001b[0mlogs\u001b[0m\u001b[0;34m\u001b[0m\u001b[0m\n\u001b[1;32m    343\u001b[0m     \u001b[0;32melse\u001b[0m\u001b[0;34m:\u001b[0m\u001b[0;34m\u001b[0m\u001b[0m\n",
      "\u001b[0;32m~/WorkSpace/Python/NMF/nsr/nsr.py\u001b[0m in \u001b[0;36m_multiplicative_update\u001b[0;34m(data, n_components, constraint, p, max_iter, alpha, true_dict, tol, verbose, eval_log)\u001b[0m\n\u001b[1;32m    253\u001b[0m \u001b[0;34m\u001b[0m\u001b[0m\n\u001b[1;32m    254\u001b[0m         \u001b[0mdelta_dictionary\u001b[0m \u001b[0;34m=\u001b[0m\u001b[0;31m \u001b[0m\u001b[0;31m\\\u001b[0m\u001b[0;34m\u001b[0m\u001b[0m\n\u001b[0;32m--> 255\u001b[0;31m             \u001b[0m_multiplicative_update_dictionary\u001b[0m\u001b[0;34m(\u001b[0m\u001b[0mdata\u001b[0m\u001b[0;34m,\u001b[0m \u001b[0mdictionary\u001b[0m\u001b[0;34m,\u001b[0m \u001b[0mcode\u001b[0m\u001b[0;34m)\u001b[0m\u001b[0;34m\u001b[0m\u001b[0m\n\u001b[0m\u001b[1;32m    256\u001b[0m         \u001b[0mdictionary\u001b[0m \u001b[0;34m*=\u001b[0m \u001b[0mdelta_dictionary\u001b[0m\u001b[0;34m\u001b[0m\u001b[0m\n\u001b[1;32m    257\u001b[0m \u001b[0;34m\u001b[0m\u001b[0m\n",
      "\u001b[0;32m~/WorkSpace/Python/NMF/nsr/nsr.py\u001b[0m in \u001b[0;36m_multiplicative_update_dictionary\u001b[0;34m(Y, H, U)\u001b[0m\n\u001b[1;32m    198\u001b[0m \u001b[0;34m\u001b[0m\u001b[0m\n\u001b[1;32m    199\u001b[0m \u001b[0;32mdef\u001b[0m \u001b[0m_multiplicative_update_dictionary\u001b[0m\u001b[0;34m(\u001b[0m\u001b[0mY\u001b[0m\u001b[0;34m,\u001b[0m \u001b[0mH\u001b[0m\u001b[0;34m,\u001b[0m \u001b[0mU\u001b[0m\u001b[0;34m)\u001b[0m\u001b[0;34m:\u001b[0m\u001b[0;34m\u001b[0m\u001b[0m\n\u001b[0;32m--> 200\u001b[0;31m     \u001b[0mnumerator\u001b[0m \u001b[0;34m=\u001b[0m \u001b[0mY\u001b[0m\u001b[0;34m.\u001b[0m\u001b[0mdot\u001b[0m\u001b[0;34m(\u001b[0m\u001b[0mU\u001b[0m\u001b[0;34m.\u001b[0m\u001b[0mT\u001b[0m\u001b[0;34m)\u001b[0m\u001b[0;34m\u001b[0m\u001b[0m\n\u001b[0m\u001b[1;32m    201\u001b[0m     \u001b[0mdenominator\u001b[0m \u001b[0;34m=\u001b[0m  \u001b[0mH\u001b[0m\u001b[0;34m.\u001b[0m\u001b[0mdot\u001b[0m\u001b[0;34m(\u001b[0m\u001b[0mU\u001b[0m\u001b[0;34m.\u001b[0m\u001b[0mdot\u001b[0m\u001b[0;34m(\u001b[0m\u001b[0mU\u001b[0m\u001b[0;34m.\u001b[0m\u001b[0mT\u001b[0m\u001b[0;34m)\u001b[0m\u001b[0;34m)\u001b[0m \u001b[0;34m+\u001b[0m \u001b[0;36m1e-9\u001b[0m\u001b[0;34m\u001b[0m\u001b[0m\n\u001b[1;32m    202\u001b[0m     \u001b[0mdenominator\u001b[0m\u001b[0;34m[\u001b[0m\u001b[0mdenominator\u001b[0m \u001b[0;34m==\u001b[0m \u001b[0;36m0\u001b[0m\u001b[0;34m]\u001b[0m \u001b[0;34m=\u001b[0m \u001b[0mEPSILON\u001b[0m\u001b[0;34m\u001b[0m\u001b[0m\n",
      "\u001b[0;31mKeyboardInterrupt\u001b[0m: "
     ]
    }
   ],
   "source": [
    "import numpy as np\n",
    "from nsr.nsr import NSR\n",
    "from nsr.nsr import _make_nn_sparse_coded_signal\n",
    "from nsr.nsr import _count_atoms\n",
    "from matplotlib import pyplot as plt\n",
    "\n",
    "%matplotlib inline\n",
    "\n",
    "def l1_exam_mnist():\n",
    "    #n_features = 20\n",
    "    n_components = 30\n",
    "    n_samples = 1500\n",
    "    n_nonzero_coefs = 3\n",
    "\n",
    "    #loading mnist data\n",
    "    from chainer.datasets import mnist\n",
    "    train, test = mnist.get_mnist(withlabel=False, ndim=1)\n",
    "    idx = np.random.permutation(train.shape[0])\n",
    "    data = train[idx][:n_samples].T\n",
    "    print(data.shape)\n",
    "    \n",
    "    model = NSR(n_components=n_components, solver='mu', alpha=0.05, max_iter=2000, tol=1e-14, verbose=1, eval_log=True)\n",
    "\n",
    "    est_code = model.fit_transform(data)\n",
    "    est_dictionary = model.dictionary\n",
    "    est_logs = model.logs\n",
    "    print(\"error: %r\" % sum(sum(pow(data - np.dot(est_dictionary, est_code), 2))))\n",
    "\n",
    "\n",
    "    figure_name = \"fixed_normarization_over_complete_alpha_1e-1\"\n",
    "\n",
    "    plt.figure(1)\n",
    "    plt.plot(est_logs['time'])\n",
    "    plt.figure(2)\n",
    "    plt.plot(est_logs['error'])\n",
    "    plt.figure(4)\n",
    "    plt.plot(est_logs['sparsity'])\n",
    "\n",
    "if __name__ == '__main__':\n",
    "    l1_exam_mnist()"
   ]
  },
  {
   "cell_type": "code",
   "execution_count": null,
   "metadata": {
    "collapsed": true
   },
   "outputs": [],
   "source": []
  }
 ],
 "metadata": {
  "kernelspec": {
   "display_name": "Python 3",
   "language": "python",
   "name": "python3"
  },
  "language_info": {
   "codemirror_mode": {
    "name": "ipython",
    "version": 3
   },
   "file_extension": ".py",
   "mimetype": "text/x-python",
   "name": "python",
   "nbconvert_exporter": "python",
   "pygments_lexer": "ipython3",
   "version": "3.8.10"
  }
 },
 "nbformat": 4,
 "nbformat_minor": 2
}
